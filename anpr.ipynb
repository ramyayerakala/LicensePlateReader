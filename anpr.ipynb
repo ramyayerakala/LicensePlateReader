{
 "cells": [
  {
   "cell_type": "code",
   "execution_count": null,
   "metadata": {
    "colab": {
     "base_uri": "https://localhost:8080/"
    },
    "id": "pmM1dop72HfK",
    "outputId": "e01a3ddc-adf0-4df3-8651-c361849c8eb1"
   },
   "outputs": [],
   "source": [
    "!git clone https://github.com/rex-9/License-Plate-Reader-YOLOv8.git"
   ]
  },
  {
   "cell_type": "code",
   "execution_count": null,
   "metadata": {
    "colab": {
     "base_uri": "https://localhost:8080/"
    },
    "id": "TotCpH174BPu",
    "outputId": "12891f54-0d20-422b-bcaf-0fe3eba91bae"
   },
   "outputs": [],
   "source": [
    "cd /content/License-Plate-Reader-YOLOv8"
   ]
  },
  {
   "cell_type": "code",
   "execution_count": null,
   "metadata": {
    "colab": {
     "base_uri": "https://localhost:8080/"
    },
    "id": "i7nQY2yu4Ee3",
    "outputId": "3f57e8f8-3f6e-4ce1-ec1d-dde1d48974df"
   },
   "outputs": [],
   "source": [
    "!pip install roboflow\n",
    "\n",
    "from roboflow import Roboflow\n",
    "rf = Roboflow(api_key=\"3RfK8npF3sCXZDwd2W9T\")\n",
    "project = rf.workspace(\"mochoye\").project(\"license-plate-detector-ogxxg\")\n",
    "dataset = project.version(2).download(\"yolov8\")\n",
    "\n",
    "\n"
   ]
  },
  {
   "cell_type": "code",
   "execution_count": null,
   "metadata": {
    "colab": {
     "base_uri": "https://localhost:8080/",
     "height": 1000
    },
    "id": "qd0UgEnF5KH8",
    "outputId": "db1dc2ca-af36-4034-f4c5-696496f18810"
   },
   "outputs": [],
   "source": [
    "!pip install -r requirements.txt"
   ]
  },
  {
   "cell_type": "code",
   "execution_count": null,
   "metadata": {
    "colab": {
     "base_uri": "https://localhost:8080/"
    },
    "id": "dK5DpY9D5iiu",
    "outputId": "85a1a7f6-86d8-4e95-8272-54068ff3ddd6"
   },
   "outputs": [],
   "source": [
    "!python3 /content/License-Plate-Reader-YOLOv8/ultralytics/yolo/v8/detect/train.py model=yolov8n.pt data=/content/License-Plate-Reader-YOLOv8/License-Plate-Detector-2/data.yaml epochs=100"
   ]
  },
  {
   "cell_type": "code",
   "execution_count": null,
   "metadata": {
    "colab": {
     "base_uri": "https://localhost:8080/"
    },
    "id": "eh9d2hdFMO0l",
    "outputId": "3916593e-768f-4218-fda6-7826f3ce1374"
   },
   "outputs": [],
   "source": [
    "!python3 /content/License-Plate-Reader-YOLOv8/ultralytics/yolo/v8/detect/predict.py model='/content/License-Plate-Reader-YOLOv8/runs/detect/train/weights/best.pt' source='/content/Licence-Plate-Detection-using-YOLO-V8/demo.mp4'"
   ]
  },
  {
   "cell_type": "code",
   "execution_count": null,
   "metadata": {
    "colab": {
     "base_uri": "https://localhost:8080/"
    },
    "id": "XFSS5xzGYszt",
    "outputId": "38208546-5296-40c5-cf14-2f9f87184f34"
   },
   "outputs": [],
   "source": [
    "!python3 /content/License-Plate-Reader-YOLOv8/ultralytics/yolo/v8/detect/predict.py model='/content/License-Plate-Reader-YOLOv8/runs/detect/train/weights/best.pt' source='/content/License-Plate-Reader-YOLOv8/demo2.jpeg'"
   ]
  },
  {
   "cell_type": "code",
   "execution_count": null,
   "metadata": {},
   "outputs": [],
   "source": [
    "!python3 predictWithOCR.py model='./License-Plate-Reader-YOLOv8/best.pt' source='./License-Plate-Reader-YOLOv8/demo.mp4'"
   ]
  },
  {
   "cell_type": "code",
   "execution_count": null,
   "metadata": {},
   "outputs": [],
   "source": []
  }
 ],
 "metadata": {
  "accelerator": "GPU",
  "colab": {
   "gpuType": "T4",
   "provenance": []
  },
  "kernelspec": {
   "display_name": "Python 3 (ipykernel)",
   "language": "python",
   "name": "python3"
  },
  "language_info": {
   "codemirror_mode": {
    "name": "ipython",
    "version": 3
   },
   "file_extension": ".py",
   "mimetype": "text/x-python",
   "name": "python",
   "nbconvert_exporter": "python",
   "pygments_lexer": "ipython3",
   "version": "3.11.5"
  }
 },
 "nbformat": 4,
 "nbformat_minor": 4
}
